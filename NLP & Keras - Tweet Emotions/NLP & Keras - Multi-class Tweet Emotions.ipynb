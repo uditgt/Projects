{
 "cells": [
  {
   "cell_type": "markdown",
   "metadata": {},
   "source": [
    "## General approach: \n",
    "  * Tweets: Sentences -> tokenize -> pad/truncate\n",
    "  * Labels: label encoding  \n",
    "  \n",
    "## Bi-directional LSTM:\n",
    "  * Vector Embedding layer (each word = n-dimensional vector)\n",
    "  * Bi-directional LSTM with return_sequence True -> another Bi-directional LSTM\n",
    "  * Dense layer with multiclass o/p"
   ]
  },
  {
   "cell_type": "code",
   "execution_count": 1,
   "metadata": {},
   "outputs": [],
   "source": [
    "import numpy as np\n",
    "import pandas as pd\n",
    "import matplotlib.pyplot as plt\n",
    "import seaborn as sns\n",
    "%matplotlib  inline\n",
    "\n",
    "from sklearn.metrics import confusion_matrix, classification_report\n",
    "import tensorflow as tf\n",
    "from tensorflow.keras.preprocessing.text import Tokenizer\n",
    "from tensorflow.keras.preprocessing.sequence import pad_sequences\n",
    "import nlp\n",
    "import random"
   ]
  },
  {
   "cell_type": "code",
   "execution_count": 2,
   "metadata": {},
   "outputs": [
    {
     "name": "stdout",
     "output_type": "stream",
     "text": [
      "Using TensorFlow version 2.8.0\n"
     ]
    }
   ],
   "source": [
    "print('Using TensorFlow version', tf.__version__)"
   ]
  },
  {
   "cell_type": "markdown",
   "metadata": {},
   "source": [
    "### Loading Data"
   ]
  },
  {
   "cell_type": "code",
   "execution_count": 3,
   "metadata": {},
   "outputs": [
    {
     "name": "stderr",
     "output_type": "stream",
     "text": [
      "Using custom data configuration default\n"
     ]
    }
   ],
   "source": [
    "df = nlp.load_dataset('emotion')"
   ]
  },
  {
   "cell_type": "code",
   "execution_count": 4,
   "metadata": {},
   "outputs": [
    {
     "data": {
      "text/plain": [
       "{'train': Dataset(features: {'text': Value(dtype='string', id=None), 'label': Value(dtype='string', id=None)}, num_rows: 16000),\n",
       " 'validation': Dataset(features: {'text': Value(dtype='string', id=None), 'label': Value(dtype='string', id=None)}, num_rows: 2000),\n",
       " 'test': Dataset(features: {'text': Value(dtype='string', id=None), 'label': Value(dtype='string', id=None)}, num_rows: 2000)}"
      ]
     },
     "execution_count": 4,
     "metadata": {},
     "output_type": "execute_result"
    }
   ],
   "source": [
    "df"
   ]
  },
  {
   "cell_type": "code",
   "execution_count": 5,
   "metadata": {},
   "outputs": [],
   "source": [
    "train = df['train']\n",
    "val = df['validation']\n",
    "test = df['test']"
   ]
  },
  {
   "cell_type": "code",
   "execution_count": 6,
   "metadata": {},
   "outputs": [
    {
     "name": "stdout",
     "output_type": "stream",
     "text": [
      "{'label': 'sadness', 'text': 'i didnt feel humiliated'}\n",
      "{'label': 'sadness', 'text': 'im feeling quite sad and sorry for myself but ill snap out of it soon'}\n",
      "{'label': 'sadness', 'text': 'im feeling rather rotten so im not very ambitious right now'}\n"
     ]
    }
   ],
   "source": [
    "print(train[0])\n",
    "print(val[0]  )\n",
    "print(test[0] )"
   ]
  },
  {
   "cell_type": "code",
   "execution_count": 7,
   "metadata": {},
   "outputs": [
    {
     "data": {
      "text/plain": [
       "(16000, 2000, 2000)"
      ]
     },
     "execution_count": 7,
     "metadata": {},
     "output_type": "execute_result"
    }
   ],
   "source": [
    "len(train), len(val), len(test)"
   ]
  },
  {
   "cell_type": "code",
   "execution_count": 8,
   "metadata": {},
   "outputs": [],
   "source": [
    "def get_tweet(data):\n",
    "    tweets = [row['text'] for row in data]\n",
    "    labels = [row['label'] for row in data]\n",
    "    return tweets, labels"
   ]
  },
  {
   "cell_type": "code",
   "execution_count": 9,
   "metadata": {},
   "outputs": [
    {
     "data": {
      "text/plain": [
       "16000"
      ]
     },
     "execution_count": 9,
     "metadata": {},
     "output_type": "execute_result"
    }
   ],
   "source": [
    "train_tweets, train_labels = get_tweet(train)\n",
    "\n",
    "len(train_tweets)"
   ]
  },
  {
   "cell_type": "code",
   "execution_count": 10,
   "metadata": {},
   "outputs": [
    {
     "data": {
      "text/plain": [
       "(['i didnt feel humiliated',\n",
       "  'i can go from feeling so hopeless to so damned hopeful just from being around someone who cares and is awake'],\n",
       " ['sadness', 'sadness'])"
      ]
     },
     "execution_count": 10,
     "metadata": {},
     "output_type": "execute_result"
    }
   ],
   "source": [
    "train_tweets[:2], train_labels[:2]"
   ]
  },
  {
   "cell_type": "code",
   "execution_count": 11,
   "metadata": {},
   "outputs": [
    {
     "data": {
      "text/plain": [
       "joy         5362\n",
       "sadness     4666\n",
       "anger       2159\n",
       "fear        1937\n",
       "love        1304\n",
       "surprise     572\n",
       "dtype: int64"
      ]
     },
     "execution_count": 11,
     "metadata": {},
     "output_type": "execute_result"
    }
   ],
   "source": [
    "pd.Series(train_labels).value_counts()"
   ]
  },
  {
   "cell_type": "markdown",
   "metadata": {},
   "source": [
    "### Tokenize the tweets"
   ]
  },
  {
   "cell_type": "markdown",
   "metadata": {},
   "source": [
    "Keep 10,000 most frequent words in the dataset, and convert them to numerical sequence"
   ]
  },
  {
   "cell_type": "code",
   "execution_count": 12,
   "metadata": {},
   "outputs": [],
   "source": [
    "tokenizer = Tokenizer(num_words=10000, oov_token='<UNK>')"
   ]
  },
  {
   "cell_type": "code",
   "execution_count": 13,
   "metadata": {},
   "outputs": [],
   "source": [
    "tokenizer.fit_on_texts(train_tweets)"
   ]
  },
  {
   "cell_type": "code",
   "execution_count": 14,
   "metadata": {},
   "outputs": [
    {
     "data": {
      "text/plain": [
       "([[2, 139, 3, 679]], 'i didnt feel humiliated')"
      ]
     },
     "execution_count": 14,
     "metadata": {},
     "output_type": "execute_result"
    }
   ],
   "source": [
    "tokenizer.texts_to_sequences([train_tweets[0]]), train_tweets[0]"
   ]
  },
  {
   "cell_type": "markdown",
   "metadata": {},
   "source": [
    "### Padding & Truncating tweets - model will need a fixed shape"
   ]
  },
  {
   "cell_type": "markdown",
   "metadata": {},
   "source": [
    "Reviewing the histogram of tweet lengths to determine an appropriate maximum length, which captures most of the data, while taking care of tail distribution. Bring the dataset to a uniform shape, by truncating/ padding individual tweets to comply with the maximum length selected."
   ]
  },
  {
   "cell_type": "code",
   "execution_count": 15,
   "metadata": {},
   "outputs": [
    {
     "data": {
      "image/png": "[encoded data removed]",
      "text/plain": [
       "<Figure size 432x288 with 1 Axes>"
      ]
     },
     "metadata": {
      "needs_background": "light"
     },
     "output_type": "display_data"
    }
   ],
   "source": [
    "lengths = [len(t.split(' ')) for t in train_tweets]\n",
    "\n",
    "plt.hist(lengths, bins=len(set(lengths)));"
   ]
  },
  {
   "cell_type": "code",
   "execution_count": 16,
   "metadata": {},
   "outputs": [],
   "source": [
    "maxlen = 50\n",
    "\n",
    "def get_sequences(tokenizer, tweets):\n",
    "    sequences = tokenizer.texts_to_sequences(tweets)\n",
    "    padded = pad_sequences(sequences, truncating='post', padding='post', maxlen=maxlen)\n",
    "    return padded"
   ]
  },
  {
   "cell_type": "code",
   "execution_count": 17,
   "metadata": {},
   "outputs": [
    {
     "data": {
      "text/plain": [
       "(16000, 50)"
      ]
     },
     "execution_count": 17,
     "metadata": {},
     "output_type": "execute_result"
    }
   ],
   "source": [
    "train_padded_seq = get_sequences(tokenizer, train_tweets)\n",
    "train_padded_seq.shape"
   ]
  },
  {
   "cell_type": "code",
   "execution_count": 18,
   "metadata": {},
   "outputs": [
    {
     "name": "stdout",
     "output_type": "stream",
     "text": [
      "i didnt feel humiliated\n",
      "[  2 139   3 679   0   0   0   0   0   0   0   0   0   0   0   0   0   0\n",
      "   0   0   0   0   0   0   0   0   0   0   0   0   0   0   0   0   0   0\n",
      "   0   0   0   0   0   0   0   0   0   0   0   0   0   0]\n"
     ]
    }
   ],
   "source": [
    "print(train_tweets[0])\n",
    "print(train_padded_seq[0])"
   ]
  },
  {
   "cell_type": "code",
   "execution_count": 19,
   "metadata": {},
   "outputs": [
    {
     "name": "stdout",
     "output_type": "stream",
     "text": [
      "i can go from feeling so hopeless to so damned hopeful just from being around someone who cares and is awake\n",
      "[   2   40  101   60    8   15  494    5   15 3496  553   32   60   61\n",
      "  128  148   76 1480    4   22 1255    0    0    0    0    0    0    0\n",
      "    0    0    0    0    0    0    0    0    0    0    0    0    0    0\n",
      "    0    0    0    0    0    0    0    0]\n"
     ]
    }
   ],
   "source": [
    "print(train_tweets[1])\n",
    "print(train_padded_seq[1])"
   ]
  },
  {
   "cell_type": "markdown",
   "metadata": {},
   "source": [
    "### Preparing Labels - converting tweet emotion from 'text' to 'numerical' value"
   ]
  },
  {
   "cell_type": "code",
   "execution_count": 20,
   "metadata": {},
   "outputs": [
    {
     "data": {
      "text/plain": [
       "['sadness', 'sadness', 'anger', 'love', 'anger']"
      ]
     },
     "execution_count": 20,
     "metadata": {},
     "output_type": "execute_result"
    }
   ],
   "source": [
    "train_labels[0:5]"
   ]
  },
  {
   "cell_type": "code",
   "execution_count": 21,
   "metadata": {},
   "outputs": [
    {
     "data": {
      "text/plain": [
       "{'anger', 'fear', 'joy', 'love', 'sadness', 'surprise'}"
      ]
     },
     "execution_count": 21,
     "metadata": {},
     "output_type": "execute_result"
    }
   ],
   "source": [
    "set(train_labels)"
   ]
  },
  {
   "cell_type": "code",
   "execution_count": 22,
   "metadata": {},
   "outputs": [
    {
     "data": {
      "image/png": "[encoded data removed]",
      "text/plain": [
       "<Figure size 432x288 with 1 Axes>"
      ]
     },
     "metadata": {
      "needs_background": "light"
     },
     "output_type": "display_data"
    }
   ],
   "source": [
    "plt.hist(train_labels, bins=11);"
   ]
  },
  {
   "cell_type": "code",
   "execution_count": 23,
   "metadata": {},
   "outputs": [
    {
     "name": "stdout",
     "output_type": "stream",
     "text": [
      "{'fear': 0, 'joy': 1, 'love': 2, 'anger': 3, 'surprise': 4, 'sadness': 5}\n",
      "{0: 'fear', 1: 'joy', 2: 'love', 3: 'anger', 4: 'surprise', 5: 'sadness'}\n"
     ]
    }
   ],
   "source": [
    "class_to_index = dict((emo, i) for i, emo in enumerate(set(train_labels)))\n",
    "print(class_to_index)\n",
    "\n",
    "index_to_class = dict((i, emo) for emo, i in class_to_index.items())\n",
    "print(index_to_class)"
   ]
  },
  {
   "cell_type": "code",
   "execution_count": 24,
   "metadata": {},
   "outputs": [],
   "source": [
    "train_labels_class = np.array([class_to_index[x] for x in train_labels])"
   ]
  },
  {
   "cell_type": "code",
   "execution_count": 25,
   "metadata": {},
   "outputs": [
    {
     "data": {
      "text/plain": [
       "(array([5, 5, 3, 2, 3]), ['sadness', 'sadness', 'anger', 'love', 'anger'])"
      ]
     },
     "execution_count": 25,
     "metadata": {},
     "output_type": "execute_result"
    }
   ],
   "source": [
    "train_labels_class[0:5], train_labels[0:5]"
   ]
  },
  {
   "cell_type": "markdown",
   "metadata": {},
   "source": [
    "### TensorFlow Model "
   ]
  },
  {
   "cell_type": "code",
   "execution_count": 26,
   "metadata": {},
   "outputs": [],
   "source": [
    "model = tf.keras.models.Sequential([\n",
    "    tf.keras.layers.Embedding(10000, 16, input_length=maxlen),     # output will be 50 vectors of 16 dimensions each\n",
    "    tf.keras.layers.Bidirectional(tf.keras.layers.LSTM(20, return_sequences=True)), # Bidirectional wrapper for LSTM\n",
    "    tf.keras.layers.Bidirectional(tf.keras.layers.LSTM(20)),\n",
    "    tf.keras.layers.Dense(6, activation='softmax')\n",
    "])"
   ]
  },
  {
   "cell_type": "code",
   "execution_count": 27,
   "metadata": {},
   "outputs": [],
   "source": [
    "# Embedding Layer - turns positive integers (indexes) into dense vectors of fixed size.\n",
    "# https://machinelearningmastery.com/use-word-embedding-layers-deep-learning-keras/\n",
    "    # input_dim: size of the vocabulary in the text data\n",
    "    # output_dim: size of the vector space in which words will be embedded\n",
    "    # input_length: length of input sequences\n",
    "    # The output of the Embedding layer is a 2D vector with one embedding for each word in the input sequence of words\n",
    "    \n",
    "# Bidirectional Layer\n",
    "# https://machinelearningmastery.com/develop-bidirectional-lstm-sequence-classification-python-keras/\n",
    "    # Bidirectional LSTMs train two LSTMs on the input sequence - first on as-is and second on a reversed copy\n",
    "    # return_sequences - every time-step there will be an output"
   ]
  },
  {
   "cell_type": "code",
   "execution_count": 28,
   "metadata": {},
   "outputs": [],
   "source": [
    "model.compile(\n",
    "    loss = 'sparse_categorical_crossentropy',\n",
    "    optimizer='adam',\n",
    "    metrics = ['accuracy']\n",
    ")"
   ]
  },
  {
   "cell_type": "code",
   "execution_count": 29,
   "metadata": {},
   "outputs": [
    {
     "name": "stdout",
     "output_type": "stream",
     "text": [
      "Model: \"sequential\"\n",
      "_________________________________________________________________\n",
      " Layer (type)                Output Shape              Param #   \n",
      "=================================================================\n",
      " embedding (Embedding)       (None, 50, 16)            160000    \n",
      "                                                                 \n",
      " bidirectional (Bidirectiona  (None, 50, 40)           5920      \n",
      " l)                                                              \n",
      "                                                                 \n",
      " bidirectional_1 (Bidirectio  (None, 40)               9760      \n",
      " nal)                                                            \n",
      "                                                                 \n",
      " dense (Dense)               (None, 6)                 246       \n",
      "                                                                 \n",
      "=================================================================\n",
      "Total params: 175,926\n",
      "Trainable params: 175,926\n",
      "Non-trainable params: 0\n",
      "_________________________________________________________________\n"
     ]
    }
   ],
   "source": [
    "model.summary()"
   ]
  },
  {
   "cell_type": "markdown",
   "metadata": {},
   "source": [
    "### Model Training"
   ]
  },
  {
   "cell_type": "markdown",
   "metadata": {},
   "source": [
    "#### Prepping Validation dataset"
   ]
  },
  {
   "cell_type": "code",
   "execution_count": 30,
   "metadata": {},
   "outputs": [],
   "source": [
    "def prep_data(df):\n",
    "    df_tweets, df_labels = get_tweet(df)\n",
    "    df_padded_seq = get_sequences(tokenizer, df_tweets)\n",
    "    df_labels_class = np.array([class_to_index[x] for x in df_labels])\n",
    "    return df_padded_seq, df_labels_class"
   ]
  },
  {
   "cell_type": "code",
   "execution_count": 31,
   "metadata": {},
   "outputs": [],
   "source": [
    "val_padded_seq, val_labels_class = prep_data(val)"
   ]
  },
  {
   "cell_type": "code",
   "execution_count": 32,
   "metadata": {},
   "outputs": [
    {
     "name": "stdout",
     "output_type": "stream",
     "text": [
      "{'label': 'sadness', 'text': 'im feeling quite sad and sorry for myself but ill snap out of it soon'} \n",
      " [ 17   8 157 260   4 343  16  51  19 212   1  50  10  13 533   0   0   0\n",
      "   0   0   0   0   0   0   0   0   0   0   0   0   0   0   0   0   0   0\n",
      "   0   0   0   0   0   0   0   0   0   0   0   0   0   0] \n",
      " 5\n"
     ]
    }
   ],
   "source": [
    "print(val[0], '\\n', \n",
    "      val_padded_seq[0],'\\n', \n",
    "      val_labels_class[0])"
   ]
  },
  {
   "cell_type": "markdown",
   "metadata": {},
   "source": [
    "#### Training Model"
   ]
  },
  {
   "cell_type": "code",
   "execution_count": 33,
   "metadata": {},
   "outputs": [
    {
     "name": "stdout",
     "output_type": "stream",
     "text": [
      "(16000, 50) (16000,)\n"
     ]
    }
   ],
   "source": [
    "print(train_padded_seq.shape, train_labels_class.shape)"
   ]
  },
  {
   "cell_type": "code",
   "execution_count": 34,
   "metadata": {},
   "outputs": [
    {
     "name": "stdout",
     "output_type": "stream",
     "text": [
      "Epoch 1/20\n",
      "500/500 [==============================] - 12s 19ms/step - loss: 1.3265 - accuracy: 0.4693 - val_loss: 0.8029 - val_accuracy: 0.7010\n",
      "Epoch 2/20\n",
      "500/500 [==============================] - 8s 16ms/step - loss: 0.4978 - accuracy: 0.8306 - val_loss: 0.4824 - val_accuracy: 0.8395\n",
      "Epoch 3/20\n",
      "500/500 [==============================] - 8s 16ms/step - loss: 0.2398 - accuracy: 0.9249 - val_loss: 0.3635 - val_accuracy: 0.8875\n",
      "Epoch 4/20\n",
      "500/500 [==============================] - 8s 17ms/step - loss: 0.1520 - accuracy: 0.9526 - val_loss: 0.4012 - val_accuracy: 0.8740\n",
      "Epoch 5/20\n",
      "500/500 [==============================] - 8s 17ms/step - loss: 0.1123 - accuracy: 0.9643 - val_loss: 0.3893 - val_accuracy: 0.8820\n",
      "Epoch 6/20\n",
      "500/500 [==============================] - 8s 17ms/step - loss: 0.0845 - accuracy: 0.9731 - val_loss: 0.3711 - val_accuracy: 0.8800\n",
      "Epoch 7/20\n",
      "500/500 [==============================] - 8s 17ms/step - loss: 0.0671 - accuracy: 0.9790 - val_loss: 0.3971 - val_accuracy: 0.8840\n",
      "Epoch 8/20\n",
      "500/500 [==============================] - 8s 17ms/step - loss: 0.0516 - accuracy: 0.9838 - val_loss: 0.4363 - val_accuracy: 0.8885\n",
      "Epoch 9/20\n",
      "500/500 [==============================] - 8s 17ms/step - loss: 0.0587 - accuracy: 0.9804 - val_loss: 0.4550 - val_accuracy: 0.8875\n",
      "Epoch 10/20\n",
      "500/500 [==============================] - 9s 18ms/step - loss: 0.0709 - accuracy: 0.9776 - val_loss: 0.4707 - val_accuracy: 0.8815\n",
      "Epoch 11/20\n",
      "500/500 [==============================] - 9s 18ms/step - loss: 0.0421 - accuracy: 0.9870 - val_loss: 0.4286 - val_accuracy: 0.8875\n",
      "Epoch 12/20\n",
      "500/500 [==============================] - 9s 18ms/step - loss: 0.0322 - accuracy: 0.9891 - val_loss: 0.5570 - val_accuracy: 0.8745\n",
      "Epoch 13/20\n",
      "500/500 [==============================] - 9s 17ms/step - loss: 0.0387 - accuracy: 0.9874 - val_loss: 0.4716 - val_accuracy: 0.8855\n"
     ]
    }
   ],
   "source": [
    "h = model.fit(train_padded_seq, train_labels_class,\n",
    "              validation_data=(val_padded_seq, val_labels_class),\n",
    "              epochs=20, \n",
    "              callbacks=[tf.keras.callbacks.EarlyStopping(monitor='val_accuracy', patience=5)]\n",
    "             )"
   ]
  },
  {
   "cell_type": "code",
   "execution_count": 35,
   "metadata": {},
   "outputs": [],
   "source": [
    "def show_history(h):\n",
    "    epochs_trained = len(h.history['loss'])\n",
    "    plt.figure(figsize=(16, 6))\n",
    "\n",
    "    plt.subplot(1, 2, 1)\n",
    "    plt.plot(range(0, epochs_trained), h.history.get('accuracy'), label='Training')\n",
    "    plt.plot(range(0, epochs_trained), h.history.get('val_accuracy'), label='Validation')\n",
    "    plt.ylim([0., 1.])\n",
    "    plt.xlabel('Epochs')\n",
    "    plt.ylabel('Accuracy')\n",
    "    plt.legend()\n",
    "\n",
    "    plt.subplot(1, 2, 2)\n",
    "    plt.plot(range(0, epochs_trained), h.history.get('loss'), label='Training')\n",
    "    plt.plot(range(0, epochs_trained), h.history.get('val_loss'), label='Validation')\n",
    "    plt.xlabel('Epochs')\n",
    "    plt.ylabel('Loss')\n",
    "    plt.legend()\n",
    "    plt.show()"
   ]
  },
  {
   "cell_type": "code",
   "execution_count": 36,
   "metadata": {},
   "outputs": [
    {
     "data": {
      "image/png": "[encoded data removed]",
      "text/plain": [
       "<Figure size 1152x432 with 2 Axes>"
      ]
     },
     "metadata": {
      "needs_background": "light"
     },
     "output_type": "display_data"
    }
   ],
   "source": [
    "show_history(h)"
   ]
  },
  {
   "cell_type": "markdown",
   "metadata": {},
   "source": [
    "### Performance on Test set"
   ]
  },
  {
   "cell_type": "code",
   "execution_count": 37,
   "metadata": {},
   "outputs": [],
   "source": [
    "test_padded_seq, test_labels_class = prep_data(test)"
   ]
  },
  {
   "cell_type": "code",
   "execution_count": 38,
   "metadata": {},
   "outputs": [
    {
     "name": "stdout",
     "output_type": "stream",
     "text": [
      "63/63 [==============================] - 0s 5ms/step - loss: 0.4557 - accuracy: 0.8845\n"
     ]
    }
   ],
   "source": [
    "_ = model.evaluate(test_padded_seq, test_labels_class)"
   ]
  },
  {
   "cell_type": "markdown",
   "metadata": {},
   "source": [
    "#### Checking one random example"
   ]
  },
  {
   "cell_type": "code",
   "execution_count": 39,
   "metadata": {},
   "outputs": [
    {
     "name": "stdout",
     "output_type": "stream",
     "text": [
      "Tweet:  ive got a off sale the ad says starting tomorrow but im feeling generous and started it now\n",
      "Class:  love\n"
     ]
    }
   ],
   "source": [
    "# Checking particular instance:\n",
    "i = random.randint(0, len(test)-1)\n",
    "\n",
    "print('Tweet: ', test['text'][i])\n",
    "print('Class: ', test['label'][i])"
   ]
  },
  {
   "cell_type": "code",
   "execution_count": 40,
   "metadata": {},
   "outputs": [
    {
     "name": "stdout",
     "output_type": "stream",
     "text": [
      "(50,)\n",
      "[  73  141    7  169 3615    6 2630 1027  316  972   19   17    8  342\n",
      "    4  198   13   58    0    0    0    0    0    0    0    0    0    0\n",
      "    0    0    0    0    0    0    0    0    0    0    0    0    0    0\n",
      "    0    0    0    0    0    0    0    0]\n",
      "(1, 50)\n",
      "[[  73  141    7  169 3615    6 2630 1027  316  972   19   17    8  342\n",
      "     4  198   13   58    0    0    0    0    0    0    0    0    0    0\n",
      "     0    0    0    0    0    0    0    0    0    0    0    0    0    0\n",
      "     0    0    0    0    0    0    0    0]]\n"
     ]
    }
   ],
   "source": [
    "# Fixing shape of input for model prediction\n",
    "print( test_padded_seq[i].shape )\n",
    "print( test_padded_seq[i] )\n",
    "\n",
    "# Insert a new axis that will appear at the `axis` position in the expanded array shape.\n",
    "print( np.expand_dims(test_padded_seq[i], axis=0).shape )\n",
    "print( np.expand_dims(test_padded_seq[i], axis=0) ) "
   ]
  },
  {
   "cell_type": "code",
   "execution_count": 41,
   "metadata": {},
   "outputs": [
    {
     "data": {
      "text/plain": [
       "array([[2.11305291e-04, 1.00238465e-01, 8.92853737e-01, 3.58444580e-04,\n",
       "        6.06834237e-03, 2.69747572e-04]], dtype=float32)"
      ]
     },
     "execution_count": 41,
     "metadata": {},
     "output_type": "execute_result"
    }
   ],
   "source": [
    "model.predict(np.expand_dims(test_padded_seq[i], axis=0))"
   ]
  },
  {
   "cell_type": "code",
   "execution_count": 42,
   "metadata": {},
   "outputs": [],
   "source": [
    "p = model.predict(np.expand_dims(test_padded_seq[i], axis=0))[0]"
   ]
  },
  {
   "cell_type": "code",
   "execution_count": 43,
   "metadata": {},
   "outputs": [
    {
     "name": "stdout",
     "output_type": "stream",
     "text": [
      "Prediction Class:  love\n"
     ]
    }
   ],
   "source": [
    "print('Prediction Class: ',index_to_class[p.argmax()])"
   ]
  },
  {
   "cell_type": "markdown",
   "metadata": {},
   "source": [
    "#### Confusion Matrix"
   ]
  },
  {
   "cell_type": "code",
   "execution_count": 44,
   "metadata": {},
   "outputs": [],
   "source": [
    "y_pred = model.predict(test_padded_seq)\n",
    "y_class = [i.argmax() for i in y_pred]"
   ]
  },
  {
   "cell_type": "code",
   "execution_count": 45,
   "metadata": {},
   "outputs": [
    {
     "data": {
      "text/plain": [
       "array([[188,   5,   0,   8,   8,  15],\n",
       "       [  2, 640,  36,   6,   5,   6],\n",
       "       [  1,  30, 116,   6,   0,   6],\n",
       "       [  6,   8,   0, 240,   0,  21],\n",
       "       [ 17,   4,   0,   0,  44,   1],\n",
       "       [  5,  22,   1,  12,   0, 541]], dtype=int64)"
      ]
     },
     "execution_count": 45,
     "metadata": {},
     "output_type": "execute_result"
    }
   ],
   "source": [
    "confusion_matrix(test_labels_class, y_class)"
   ]
  },
  {
   "cell_type": "code",
   "execution_count": 46,
   "metadata": {},
   "outputs": [
    {
     "data": {
      "image/png": "[encoded data removed]",
      "text/plain": [
       "<Figure size 432x288 with 1 Axes>"
      ]
     },
     "metadata": {
      "needs_background": "light"
     },
     "output_type": "display_data"
    }
   ],
   "source": [
    "ax = sns.countplot(x=test['label'], color='grey')\n",
    "\n",
    "for p in ax.patches:\n",
    "        ax.annotate(p.get_height(), (p.get_x()+0.25, p.get_height()+5))"
   ]
  },
  {
   "cell_type": "code",
   "execution_count": 47,
   "metadata": {},
   "outputs": [
    {
     "data": {
      "image/png": "[encoded data removed]",
      "text/plain": [
       "<Figure size 576x360 with 2 Axes>"
      ]
     },
     "metadata": {
      "needs_background": "light"
     },
     "output_type": "display_data"
    }
   ],
   "source": [
    "plt.figure(figsize=(8,5))\n",
    "# sns.heatmap(confusion_matrix(test_labels_class, y_class, normalize='true'), annot=True, fmt='.2f', cmap='viridis')\n",
    "sns.heatmap(confusion_matrix(test_labels_class, y_class), annot=True, fmt='.0f', cmap='viridis')\n",
    "plt.xticks(ticks=np.array(range(6))+0.5, labels=class_to_index.keys())\n",
    "plt.yticks(ticks=np.array(range(6))+0.5, labels=class_to_index.keys())\n",
    "plt.show()"
   ]
  },
  {
   "cell_type": "code",
   "execution_count": 48,
   "metadata": {},
   "outputs": [
    {
     "name": "stdout",
     "output_type": "stream",
     "text": [
      "              precision    recall  f1-score   support\n",
      "\n",
      "           0       0.86      0.84      0.85       224\n",
      "           1       0.90      0.92      0.91       695\n",
      "           2       0.76      0.73      0.74       159\n",
      "           3       0.88      0.87      0.88       275\n",
      "           4       0.77      0.67      0.72        66\n",
      "           5       0.92      0.93      0.92       581\n",
      "\n",
      "    accuracy                           0.88      2000\n",
      "   macro avg       0.85      0.83      0.84      2000\n",
      "weighted avg       0.88      0.88      0.88      2000\n",
      "\n"
     ]
    }
   ],
   "source": [
    "print(classification_report(test_labels_class, y_class))"
   ]
  },
  {
   "cell_type": "markdown",
   "metadata": {},
   "source": [
    "The End"
   ]
  }
 ],
 "metadata": {
  "kernelspec": {
   "display_name": "Python 3",
   "language": "python",
   "name": "python3"
  },
  "language_info": {
   "codemirror_mode": {
    "name": "ipython",
    "version": 3
   },
   "file_extension": ".py",
   "mimetype": "text/x-python",
   "name": "python",
   "nbconvert_exporter": "python",
   "pygments_lexer": "ipython3",
   "version": "3.8.5"
  }
 },
 "nbformat": 4,
 "nbformat_minor": 4
}
